{
 "cells": [
  {
   "cell_type": "markdown",
   "id": "eb3c3a85",
   "metadata": {},
   "source": [
    "See Meeting Notes"
   ]
  },
  {
   "cell_type": "code",
   "execution_count": 2,
   "id": "9aabc8a1",
   "metadata": {},
   "outputs": [],
   "source": [
    "import numpy as np\n",
    "import matplotlib.pyplot as plt\n",
    "\n",
    "def black_body(lam, T=9602):\n",
    "    \"\"\"\n",
    "    Equation obtained from https://www.oceanopticsbook.info/view/light-and-radiometry/level-2/blackbody-radiation\n",
    "\n",
    "    inputs: \n",
    "        lam, wavelength in μm\n",
    "        T, temperature in K\n",
    "\n",
    "    ouputs:\n",
    "        photon irradiance in photons/ (s * m^2 * m)\n",
    "    \"\"\"\n",
    "    return ((2 * np.pi * c)/(lam**4)) * (1 / (np.exp((h*c)/(lam*k*T))-1))"
   ]
  },
  {
   "cell_type": "code",
   "execution_count": null,
   "id": "c2f64b90",
   "metadata": {},
   "outputs": [],
   "source": []
  }
 ],
 "metadata": {
  "kernelspec": {
   "display_name": "test",
   "language": "python",
   "name": "python3"
  },
  "language_info": {
   "codemirror_mode": {
    "name": "ipython",
    "version": 3
   },
   "file_extension": ".py",
   "mimetype": "text/x-python",
   "name": "python",
   "nbconvert_exporter": "python",
   "pygments_lexer": "ipython3",
   "version": "3.13.5"
  }
 },
 "nbformat": 4,
 "nbformat_minor": 5
}
